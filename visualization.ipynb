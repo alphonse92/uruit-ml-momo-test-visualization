{
 "cells": [
  {
   "cell_type": "markdown",
   "metadata": {
    "colab_type": "text",
    "id": "LZaYqcRNo8QC"
   },
   "source": [
    "# Introduction\n",
    "\n",
    "This Notebook allow to create and visualize the dataset for this project.\n",
    "\n",
    "Some functions was taked from \"Visión por computadora\" workshop by Mauricio Repetto & Waldemar López \n",
    "\n",
    "(https://drive.google.com/file/d/1neqSeyIqdpufL4EtY6jUirUvWGya0Mkp/view?usp=sharing)\n",
    "\n",
    "\n",
    "# Imports"
   ]
  },
  {
   "cell_type": "code",
   "execution_count": 1,
   "metadata": {
    "colab": {},
    "colab_type": "code",
    "id": "bXr9oRv3A9AM"
   },
   "outputs": [],
   "source": [
    "import numpy as np\n",
    "import tensorflow as tf\n",
    "import datetime; \n",
    "import pandas as pd\n",
    "import matplotlib.pyplot as plt\n",
    "import math\n",
    "import csv\n",
    "\n",
    "from shutil import copy2, rmtree, copytree\n",
    "from tqdm import tqdm\n",
    "from sys import stdout\n",
    "from os import listdir, makedirs, remove\n",
    "from os.path import isfile, join, isdir, exists, dirname, abspath\n",
    "from inspect import getsourcefile\n",
    "from tensorflow import keras\n",
    "from numpy.random import seed\n",
    "from sklearn.decomposition import PCA\n",
    "from sklearn.preprocessing import StandardScaler\n",
    "from sklearn.metrics import classification_report, confusion_matrix\n",
    "from itertools import product\n",
    "\n",
    "from PIL import ImageFile\n",
    "ImageFile.LOAD_TRUNCATED_IMAGES = True"
   ]
  },
  {
   "cell_type": "markdown",
   "metadata": {
    "colab_type": "text",
    "id": "OoR-dXgQjVRm"
   },
   "source": [
    "# Downloading dataset from Github"
   ]
  },
  {
   "cell_type": "code",
   "execution_count": 2,
   "metadata": {
    "colab": {
     "base_uri": "https://localhost:8080/",
     "height": 85
    },
    "colab_type": "code",
    "id": "EzUBb-HPjVRn",
    "outputId": "0f7f9b16-3eb1-4686-b010-a6f4e4eaf856"
   },
   "outputs": [
    {
     "name": "stdout",
     "output_type": "stream",
     "text": [
      "Cloning dataset project from github\n",
      "Cloning into './dataset'...\n",
      "remote: Enumerating objects: 5, done.\u001b[K\n",
      "remote: Counting objects: 100% (5/5), done.\u001b[K\n",
      "remote: Compressing objects: 100% (5/5), done.\u001b[K\n",
      "remote: Total 1432 (delta 0), reused 4 (delta 0), pack-reused 1427\u001b[K\n",
      "Receiving objects: 100% (1432/1432), 219.09 MiB | 5.21 MiB/s, done.\n",
      "Resolving deltas: 100% (15/15), done.\n",
      "HEAD is now at 7e7bb4a remove ds store\n",
      "Already up to date.\n",
      "Updating files: 100% (1461/1461), done.\n",
      "Branch 'V2' set up to track remote branch 'V2' from 'origin'.\n",
      "Switched to a new branch 'V2'\n"
     ]
    }
   ],
   "source": [
    "![ ! -d \"dataset\" ] && echo \"Cloning dataset project from github\" && git clone https://github.com/alphonse92/momo-dataset.git ./dataset \n",
    "!cd dataset && git reset --hard && git pull && git checkout V2"
   ]
  },
  {
   "cell_type": "code",
   "execution_count": 3,
   "metadata": {
    "colab": {},
    "colab_type": "code",
    "id": "__Gb10ewA9AQ"
   },
   "outputs": [],
   "source": [
    "# Load Inception V3.\n",
    "\n",
    "InceptionV3             = keras.applications.inception_v3.InceptionV3\n",
    "     \n",
    "preprocess_input        = keras.applications.inception_v3.preprocess_input\n",
    "image                   = keras.preprocessing.image\n",
    "     \n",
    "ImageDataGenerator      = keras.preprocessing.image.ImageDataGenerator\n",
    "Callback                = keras.callbacks\n",
    "     \n",
    "Model                   = keras.models.Model\n",
    "Sequential              = keras.models.Sequential\n",
    "layers                  = keras.layers\n",
    "     \n",
    "Input                   = layers.Input\n",
    "Dense                   = layers.Dense\n",
    "Conv2D                  = layers.Conv2D\n",
    "ZeroPadding2D           = layers.ZeroPadding2D\n",
    "BatchNormalization      = layers.BatchNormalization\n",
    "AveragePooling2D        = layers.AveragePooling2D\n",
    "MaxPooling2D            = layers.MaxPooling2D\n",
    "GlobalAveragePooling2D  = layers.GlobalAveragePooling2D\n",
    "\n",
    "\n"
   ]
  },
  {
   "cell_type": "code",
   "execution_count": 4,
   "metadata": {
    "colab": {},
    "colab_type": "code",
    "id": "Lw7n9uorA9AS"
   },
   "outputs": [],
   "source": [
    "inceptionV3Model = InceptionV3(weights='imagenet', include_top=False, pooling=  'avg')\n",
    "\n",
    "# Uncomment to describe the inception v3 summary model\n",
    "#print(inceptionV3Model.summary())"
   ]
  },
  {
   "cell_type": "markdown",
   "metadata": {
    "colab_type": "text",
    "id": "chxHt9JvA9AV"
   },
   "source": [
    "# Notebook Configuration \n"
   ]
  },
  {
   "cell_type": "code",
   "execution_count": 5,
   "metadata": {
    "colab": {
     "base_uri": "https://localhost:8080/",
     "height": 34
    },
    "colab_type": "code",
    "id": "nKRDESWDA9AV",
    "outputId": "c0cdb026-2d02-4b32-df35-27cb70adc578"
   },
   "outputs": [
    {
     "name": "stdout",
     "output_type": "stream",
     "text": [
      "\n"
     ]
    }
   ],
   "source": [
    "# Notebook Configuration\n",
    "USE_INCEPTION_V3_MODEL = True\n",
    "RESET_TRAINING_EXAMPLES = True\n",
    "SAVE_WEIGHTS = True\n",
    "SEED_APP = 9\n",
    "\n",
    "# DATASET PROPORTIONS\n",
    "TRAINING_PERCENTAGE = 0.7\n",
    "TESTING_PERCENTAGE  = 0.15\n",
    "EVAL_PERCENTAGE     = 0.15\n",
    "\n",
    "# HYPERPARAMETERS\n",
    "CRITERIA_THRESHOLD = 0.1\n",
    "EPOCHS = 25\n",
    "BATCH_SIZE = 15\n",
    "IMG_W = IMG_H = 299\n",
    "\n",
    "# MODEL CHECKPOINTS CONFIGURATION\n",
    "SAVE_CHECKPOINTS = 5\n",
    "SAVE_WEIGHTS_FREQUENCY = 'epoch'\n",
    "SAVE_WEIGTHS_PERIOD = EPOCHS // SAVE_CHECKPOINTS\n",
    "\n",
    "# COLAB SCOPE\n",
    "GOOGLE_COLLAB = False                                                            # Default value. You should not modify this\n",
    "GOOGLE_RESET_CONTENT_TREE = True                                                 # Reset the dataset content tree. It means remove and re copy the data from drive\n",
    "MOUNT = \"./\"                                                                     # Base path of this project. You may not change this value   \n",
    "G_MOUNT = \"/content/drive\"                                                       # Set where the drive folder will be mounted\n",
    "G_PROJECT_PATH = G_MOUNT+ \"/My Drive/Colab Notebooks/uruit-ml-momo-test/\"        # Set the pathe where momo project is \n",
    "\n",
    "# If colab instance, then build the content tree\n",
    "try:\n",
    "  import google.colab\n",
    "  from google.colab import drive\n",
    "  drive.mount('/content/drive', force_remount=GOOGLE_RESET_CONTENT_TREE)\n",
    "  GOOGLE_COLLAB = True\n",
    "except:\n",
    "  GOOGLE_COLLAB = False\n",
    "  print(tf.test.gpu_device_name())\n",
    "  "
   ]
  },
  {
   "cell_type": "markdown",
   "metadata": {
    "colab_type": "text",
    "id": "3Pp1IbKlA9AX"
   },
   "source": [
    "# Variables"
   ]
  },
  {
   "cell_type": "code",
   "execution_count": 6,
   "metadata": {
    "colab": {
     "base_uri": "https://localhost:8080/",
     "height": 34
    },
    "colab_type": "code",
    "id": "cLOM_Um3A9AY",
    "outputId": "285d11e6-27b6-4be2-df40-b3f1ae921e1f"
   },
   "outputs": [
    {
     "name": "stdout",
     "output_type": "stream",
     "text": [
      "./dataset/basic/\n"
     ]
    }
   ],
   "source": [
    "\n",
    "\n",
    "\n",
    "tf.random.set_seed(SEED_APP)\n",
    "\n",
    "MOMO_CLASSNAME    = \"momo\"\n",
    "NO_MOMO_CLASSNAME = \"no_momo\"\n",
    "\n",
    "DATASET_PATH = join(MOUNT, \"dataset/\")\n",
    "DATESET_BASIC_PATH    = join(DATASET_PATH,'basic/')\n",
    "DATESET_TRAINING_PATH = join(DATASET_PATH,'train/')\n",
    "DATESET_TESTING_PATH  = join(DATASET_PATH,'test/')\n",
    "DATESET_EVAL_PATH     = join(DATASET_PATH,'eval/')\n",
    "\n",
    "RESULT_FOLDER_PATH = join(MOUNT,\"result/\")\n",
    "VISUALIZATION_FOLDER = RESULT_FOLDER_PATH + \"basic-predictions/\"\n",
    "VISUALIZATION_LATEST_RESULT_FOLDER = \"latest/\"\n",
    "\n",
    "RESULT_FOLDER_WEIGHTS_INCEPTION_V3_PATH = RESULT_FOLDER_PATH + \"inception_v3/\"\n",
    "\n",
    "\n",
    "DEFAULT_WEIGHTS_FILE_PATH = RESULT_FOLDER_WEIGHTS_INCEPTION_V3_PATH + 'weights.h5'\n",
    "\n",
    "print(DATESET_BASIC_PATH)"
   ]
  },
  {
   "cell_type": "markdown",
   "metadata": {
    "colab_type": "text",
    "id": "9SxSR39Po8Qg"
   },
   "source": [
    "## Functions"
   ]
  },
  {
   "cell_type": "code",
   "execution_count": 7,
   "metadata": {
    "colab": {},
    "colab_type": "code",
    "id": "Jv6JBgKJo8Qh"
   },
   "outputs": [],
   "source": [
    "def getFolders(path):\n",
    "    return [d for d in listdir(path) if isdir(join(path, d))]\n",
    "\n",
    "def getFolderFiles(path: str):\n",
    "    return [f for f in listdir(path) if isfile(join(path, f))]  \n",
    "\n",
    "\n",
    "def predict(path: str) -> np.array:\n",
    "    img = image.load_img(path, target_size=(299, 299))\n",
    "    # Size  (299, 299, 3)\n",
    "    imgArray = image.img_to_array(img) \n",
    "    \n",
    "    # Size  (1, 299, 299, 3)\n",
    "    expandedImgArray = np.expand_dims(imgArray, axis=0) \n",
    "    \n",
    "    # Preproces to inceptionV3, normalize each pixel RGB value to an scale of zero to one\n",
    "    processedImgArray = preprocess_input(expandedImgArray) \n",
    "    \n",
    "    return inceptionV3Model.predict(processedImgArray)\n",
    "\n",
    "def getTimestamp():\n",
    "    return datetime.datetime.now().timestamp()\n",
    "    \n",
    "def getRandomExample(xClass:str):\n",
    "\n",
    "    exampleFileList = getFolderFiles(DATESET_BASIC_PATH + xClass)\n",
    "    \n",
    "    rndIndex = np.random.randint(0,len(exampleFileList))\n",
    "    filename = exampleFileList[rndIndex]\n",
    "    return join(DATESET_BASIC_PATH,xClass,filename)\n",
    "\n",
    "def getClasses():\n",
    "    return getFolders(DATESET_BASIC_PATH)\n",
    "    \n",
    "def createFolderIfNotExist(folderPath):\n",
    "    if not exists(folderPath):\n",
    "        makedirs(folderPath)\n",
    "\n",
    "def deleteIfExist(filepath):\n",
    "    if exists(filepath):\n",
    "        remove(filepath)\n",
    "\n",
    "def saveInFileIfNotExist(filepath: str, content: str):\n",
    "  \n",
    "    # Create (or not) the result folder\n",
    "    createFolderIfNotExist(dirname(filepath))\n",
    "    \n",
    "    with open(filepath, mode=\"a\") as f:\n",
    "        f.write(content + '\\n')\n",
    "        \n",
    "        "
   ]
  },
  {
   "cell_type": "markdown",
   "metadata": {
    "colab_type": "text",
    "id": "mhvW_CGio8Qk"
   },
   "source": [
    "# Observe a single example"
   ]
  },
  {
   "cell_type": "code",
   "execution_count": 8,
   "metadata": {
    "colab": {
     "base_uri": "https://localhost:8080/",
     "height": 68
    },
    "colab_type": "code",
    "id": "JKwjWAfvo8Ql",
    "outputId": "2928ede4-ab05-4462-dac2-f19c6951348b"
   },
   "outputs": [
    {
     "name": "stdout",
     "output_type": "stream",
     "text": [
      "Momo class random file path [[0.55228573 0.8848897  0.43186566 ... 0.545951   0.63175106 0.49354166]]\n"
     ]
    },
    {
     "data": {
      "text/plain": [
       "array([[0.55228573, 0.8848897 , 0.43186566, ..., 0.545951  , 0.63175106,\n",
       "        0.49354166]], dtype=float32)"
      ]
     },
     "execution_count": 8,
     "metadata": {},
     "output_type": "execute_result"
    }
   ],
   "source": [
    "np.random.seed(SEED_APP)\n",
    "\n",
    "CLASSES = getClasses()\n",
    "RANDOM_POSITIVE_EXAMPLE_PATH = getRandomExample(\"momo\")\n",
    "RANDOM_POSITIVE_EXAMPLE_FILE = predict(RANDOM_POSITIVE_EXAMPLE_PATH)\n",
    "print(\"Momo class random file path\" , RANDOM_POSITIVE_EXAMPLE_FILE)\n",
    "\n",
    "predict(RANDOM_POSITIVE_EXAMPLE_PATH)\n"
   ]
  },
  {
   "cell_type": "markdown",
   "metadata": {
    "colab_type": "text",
    "id": "Hp1WavkdzARV"
   },
   "source": [
    "# Create required folder structure"
   ]
  },
  {
   "cell_type": "code",
   "execution_count": 9,
   "metadata": {
    "colab": {},
    "colab_type": "code",
    "id": "6EgOkS6py_gJ"
   },
   "outputs": [],
   "source": [
    "createFolderIfNotExist(RESULT_FOLDER_PATH)\n",
    "createFolderIfNotExist(VISUALIZATION_FOLDER)"
   ]
  },
  {
   "cell_type": "markdown",
   "metadata": {
    "colab_type": "text",
    "id": "6BQ15Ne6o8Qo"
   },
   "source": [
    "# Create a CSV to visualize dataset data"
   ]
  },
  {
   "cell_type": "markdown",
   "metadata": {
    "colab_type": "text",
    "id": "IT7TvXIEzWRL"
   },
   "source": [
    "## Reset result data"
   ]
  },
  {
   "cell_type": "code",
   "execution_count": 10,
   "metadata": {
    "colab": {
     "base_uri": "https://localhost:8080/",
     "height": 68
    },
    "colab_type": "code",
    "id": "clYkpOxuzU_K",
    "outputId": "f7cb8bad-6c10-47d3-fea5-657eff7ac8c0"
   },
   "outputs": [
    {
     "name": "stdout",
     "output_type": "stream",
     "text": [
      "total 16\n",
      "drwxr-xr-x  3 a  staff    96 Aug 25 16:42 \u001b[1m\u001b[36m.\u001b[m\u001b[m\n",
      "drwxr-xr-x  4 a  staff   128 Aug 25 16:40 \u001b[1m\u001b[36m..\u001b[m\u001b[m\n",
      "-rw-r--r--@ 1 a  staff  6148 Aug 25 16:37 .DS_Store\n"
     ]
    }
   ],
   "source": [
    "!rm -rf result/basic-predictions/*\n",
    "!ls -la result/basic-predictions/"
   ]
  },
  {
   "cell_type": "markdown",
   "metadata": {
    "colab_type": "text",
    "id": "ZMzCRf_xzerd"
   },
   "source": [
    "## Create the file and write the headers"
   ]
  },
  {
   "cell_type": "code",
   "execution_count": 11,
   "metadata": {
    "colab": {},
    "colab_type": "code",
    "id": "oY57xRah7Pkz"
   },
   "outputs": [],
   "source": [
    "CSV_NAME = \"result.csv\"\n",
    "resultDF = pd.DataFrame()"
   ]
  },
  {
   "cell_type": "code",
   "execution_count": 12,
   "metadata": {
    "colab": {
     "base_uri": "https://localhost:8080/",
     "height": 68
    },
    "colab_type": "code",
    "id": "FuCWUK3HvzLb",
    "outputId": "a5d0dc9c-670e-45ed-94c6-69f4ecf76bc5"
   },
   "outputs": [
    {
     "name": "stdout",
     "output_type": "stream",
     "text": [
      "100%|██████████| 75/75 [00:07<00:00, 10.25it/s]\n",
      "100%|██████████| 130/130 [00:11<00:00, 11.61it/s]\n",
      "100%|██████████| 185/185 [00:16<00:00, 11.37it/s]\n",
      "100%|██████████| 86/86 [00:07<00:00, 11.85it/s]\n",
      "100%|██████████| 434/434 [00:39<00:00, 10.89it/s]\n",
      "100%|██████████| 84/84 [00:10<00:00,  7.66it/s]\n"
     ]
    }
   ],
   "source": [
    "for _class_ in CLASSES:\n",
    "    classFolderPath = join(DATESET_BASIC_PATH, _class_)\n",
    "    imagePaths = getFolderFiles(classFolderPath)   \n",
    "    for imgName in tqdm(imagePaths, file=stdout):\n",
    "        imagePath = join(classFolderPath, imgName)\n",
    "        predictions = predict(imagePath)\n",
    "        resultDF = resultDF.append({\n",
    "            'class': _class_,\n",
    "            'image_name':imgName,\n",
    "            'predictions': \",\".join([ str(pred) for pred in predictions[0]])\n",
    "        },ignore_index=True)"
   ]
  },
  {
   "cell_type": "markdown",
   "metadata": {
    "colab_type": "text",
    "id": "kzXx8lzF9xLP"
   },
   "source": [
    "## Save file in the disk"
   ]
  },
  {
   "cell_type": "code",
   "execution_count": 13,
   "metadata": {
    "colab": {
     "base_uri": "https://localhost:8080/",
     "height": 204
    },
    "colab_type": "code",
    "id": "Wg4tVUwAA6N1",
    "outputId": "ee7d8406-bb5f-41a9-bded-2f9d4e9aecb9"
   },
   "outputs": [
    {
     "data": {
      "text/html": [
       "<div>\n",
       "<style scoped>\n",
       "    .dataframe tbody tr th:only-of-type {\n",
       "        vertical-align: middle;\n",
       "    }\n",
       "\n",
       "    .dataframe tbody tr th {\n",
       "        vertical-align: top;\n",
       "    }\n",
       "\n",
       "    .dataframe thead th {\n",
       "        text-align: right;\n",
       "    }\n",
       "</style>\n",
       "<table border=\"1\" class=\"dataframe\">\n",
       "  <thead>\n",
       "    <tr style=\"text-align: right;\">\n",
       "      <th></th>\n",
       "      <th>class</th>\n",
       "      <th>image_name</th>\n",
       "      <th>predictions</th>\n",
       "    </tr>\n",
       "  </thead>\n",
       "  <tbody>\n",
       "    <tr>\n",
       "      <th>0</th>\n",
       "      <td>landscapes</td>\n",
       "      <td>night_landscapes_image69.jpg</td>\n",
       "      <td>0.18665837,0.2011668,0.27758992,0.4505339,0.67...</td>\n",
       "    </tr>\n",
       "    <tr>\n",
       "      <th>1</th>\n",
       "      <td>landscapes</td>\n",
       "      <td>night_landscapes_image82.jpg</td>\n",
       "      <td>0.121671416,0.33406463,0.18043913,0.037964597,...</td>\n",
       "    </tr>\n",
       "    <tr>\n",
       "      <th>2</th>\n",
       "      <td>landscapes</td>\n",
       "      <td>night_landscapes_image1.jpg</td>\n",
       "      <td>0.09562505,0.18875906,0.10296103,0.40914068,0....</td>\n",
       "    </tr>\n",
       "    <tr>\n",
       "      <th>3</th>\n",
       "      <td>landscapes</td>\n",
       "      <td>night_landscapes_image97.jpg</td>\n",
       "      <td>0.19299471,0.44939288,0.27516326,0.27659455,0....</td>\n",
       "    </tr>\n",
       "    <tr>\n",
       "      <th>4</th>\n",
       "      <td>landscapes</td>\n",
       "      <td>night_landscapes_image54.jpg</td>\n",
       "      <td>0.12543976,0.3352605,0.18066786,0.22412151,0.3...</td>\n",
       "    </tr>\n",
       "  </tbody>\n",
       "</table>\n",
       "</div>"
      ],
      "text/plain": [
       "        class                    image_name  \\\n",
       "0  landscapes  night_landscapes_image69.jpg   \n",
       "1  landscapes  night_landscapes_image82.jpg   \n",
       "2  landscapes   night_landscapes_image1.jpg   \n",
       "3  landscapes  night_landscapes_image97.jpg   \n",
       "4  landscapes  night_landscapes_image54.jpg   \n",
       "\n",
       "                                         predictions  \n",
       "0  0.18665837,0.2011668,0.27758992,0.4505339,0.67...  \n",
       "1  0.121671416,0.33406463,0.18043913,0.037964597,...  \n",
       "2  0.09562505,0.18875906,0.10296103,0.40914068,0....  \n",
       "3  0.19299471,0.44939288,0.27516326,0.27659455,0....  \n",
       "4  0.12543976,0.3352605,0.18066786,0.22412151,0.3...  "
      ]
     },
     "execution_count": 13,
     "metadata": {},
     "output_type": "execute_result"
    }
   ],
   "source": [
    "resultDF.head()"
   ]
  },
  {
   "cell_type": "code",
   "execution_count": 14,
   "metadata": {
    "colab": {},
    "colab_type": "code",
    "id": "22MWsMCs3j4-"
   },
   "outputs": [],
   "source": [
    "LATEST_FOLDER_PATH     = VISUALIZATION_FOLDER + VISUALIZATION_LATEST_RESULT_FOLDER\n",
    "createFolderIfNotExist(LATEST_FOLDER_PATH)\n",
    "\n",
    "LATEST_FILE_PATH       = LATEST_FOLDER_PATH  + \"result.csv\"\n",
    "resultDF.to_csv(LATEST_FILE_PATH, encoding='utf-8', index=False)\n"
   ]
  },
  {
   "cell_type": "markdown",
   "metadata": {
    "colab_type": "text",
    "id": "F6eFTCswBcb2"
   },
   "source": [
    "## Create visualization labels file"
   ]
  },
  {
   "cell_type": "code",
   "execution_count": 15,
   "metadata": {
    "colab": {
     "base_uri": "https://localhost:8080/",
     "height": 204
    },
    "colab_type": "code",
    "id": "96vvVzk8-rnx",
    "outputId": "dbabc30e-f5c9-44d9-c93d-1d1a1b233419"
   },
   "outputs": [
    {
     "data": {
      "text/html": [
       "<div>\n",
       "<style scoped>\n",
       "    .dataframe tbody tr th:only-of-type {\n",
       "        vertical-align: middle;\n",
       "    }\n",
       "\n",
       "    .dataframe tbody tr th {\n",
       "        vertical-align: top;\n",
       "    }\n",
       "\n",
       "    .dataframe thead th {\n",
       "        text-align: right;\n",
       "    }\n",
       "</style>\n",
       "<table border=\"1\" class=\"dataframe\">\n",
       "  <thead>\n",
       "    <tr style=\"text-align: right;\">\n",
       "      <th></th>\n",
       "      <th>Index</th>\n",
       "      <th>Label</th>\n",
       "    </tr>\n",
       "  </thead>\n",
       "  <tbody>\n",
       "    <tr>\n",
       "      <th>0</th>\n",
       "      <td>0.0</td>\n",
       "      <td>landscapes-night_landscapes_image69.jpg</td>\n",
       "    </tr>\n",
       "    <tr>\n",
       "      <th>1</th>\n",
       "      <td>1.0</td>\n",
       "      <td>landscapes-night_landscapes_image82.jpg</td>\n",
       "    </tr>\n",
       "    <tr>\n",
       "      <th>2</th>\n",
       "      <td>2.0</td>\n",
       "      <td>landscapes-night_landscapes_image1.jpg</td>\n",
       "    </tr>\n",
       "    <tr>\n",
       "      <th>3</th>\n",
       "      <td>3.0</td>\n",
       "      <td>landscapes-night_landscapes_image97.jpg</td>\n",
       "    </tr>\n",
       "    <tr>\n",
       "      <th>4</th>\n",
       "      <td>4.0</td>\n",
       "      <td>landscapes-night_landscapes_image54.jpg</td>\n",
       "    </tr>\n",
       "  </tbody>\n",
       "</table>\n",
       "</div>"
      ],
      "text/plain": [
       "   Index                                    Label\n",
       "0    0.0  landscapes-night_landscapes_image69.jpg\n",
       "1    1.0  landscapes-night_landscapes_image82.jpg\n",
       "2    2.0   landscapes-night_landscapes_image1.jpg\n",
       "3    3.0  landscapes-night_landscapes_image97.jpg\n",
       "4    4.0  landscapes-night_landscapes_image54.jpg"
      ]
     },
     "execution_count": 15,
     "metadata": {},
     "output_type": "execute_result"
    }
   ],
   "source": [
    "labelsDF = pd.DataFrame()\n",
    "\n",
    "for index,(file, label) in enumerate(zip(resultDF.image_name, resultDF[\"class\"])):\n",
    "  labelsDF = labelsDF.append({\n",
    "    'Index': index  ,\n",
    "    'Label':label + \"-\" + file,\n",
    "  },ignore_index=True)\n",
    "\n",
    "\n",
    "labelsDF.head()\n"
   ]
  },
  {
   "cell_type": "code",
   "execution_count": 16,
   "metadata": {
    "colab": {},
    "colab_type": "code",
    "id": "Jm6StxtkAmVK"
   },
   "outputs": [],
   "source": [
    "labelsDF.to_csv(\n",
    "    LATEST_FOLDER_PATH +  \"result_labels.tsv\",\n",
    "    encoding='utf-8',\n",
    "    sep='\\t',\n",
    "    quoting=csv.QUOTE_NONE,\n",
    "    index=False\n",
    ")"
   ]
  },
  {
   "cell_type": "markdown",
   "metadata": {
    "colab_type": "text",
    "id": "FDeFi8t6B2Cl"
   },
   "source": [
    "## Create visualization vectors"
   ]
  },
  {
   "cell_type": "code",
   "execution_count": 17,
   "metadata": {
    "colab": {
     "base_uri": "https://localhost:8080/",
     "height": 408
    },
    "colab_type": "code",
    "id": "164-WkaFCCCl",
    "outputId": "0920a9bf-dac0-4832-cd88-b2dcb0cab9e4"
   },
   "outputs": [
    {
     "data": {
      "text/html": [
       "<div>\n",
       "<style scoped>\n",
       "    .dataframe tbody tr th:only-of-type {\n",
       "        vertical-align: middle;\n",
       "    }\n",
       "\n",
       "    .dataframe tbody tr th {\n",
       "        vertical-align: top;\n",
       "    }\n",
       "\n",
       "    .dataframe thead th {\n",
       "        text-align: right;\n",
       "    }\n",
       "</style>\n",
       "<table border=\"1\" class=\"dataframe\">\n",
       "  <thead>\n",
       "    <tr style=\"text-align: right;\">\n",
       "      <th></th>\n",
       "      <th>0</th>\n",
       "      <th>1</th>\n",
       "      <th>2</th>\n",
       "      <th>3</th>\n",
       "      <th>4</th>\n",
       "      <th>5</th>\n",
       "      <th>6</th>\n",
       "      <th>7</th>\n",
       "      <th>8</th>\n",
       "      <th>9</th>\n",
       "      <th>...</th>\n",
       "      <th>2038</th>\n",
       "      <th>2039</th>\n",
       "      <th>2040</th>\n",
       "      <th>2041</th>\n",
       "      <th>2042</th>\n",
       "      <th>2043</th>\n",
       "      <th>2044</th>\n",
       "      <th>2045</th>\n",
       "      <th>2046</th>\n",
       "      <th>2047</th>\n",
       "    </tr>\n",
       "  </thead>\n",
       "  <tbody>\n",
       "    <tr>\n",
       "      <th>0</th>\n",
       "      <td>0.186658</td>\n",
       "      <td>0.201167</td>\n",
       "      <td>0.277590</td>\n",
       "      <td>0.450534</td>\n",
       "      <td>0.679752</td>\n",
       "      <td>0.557190</td>\n",
       "      <td>0.290200</td>\n",
       "      <td>0.049228</td>\n",
       "      <td>0.003357</td>\n",
       "      <td>0.435891</td>\n",
       "      <td>...</td>\n",
       "      <td>0.380921</td>\n",
       "      <td>0.814568</td>\n",
       "      <td>0.853492</td>\n",
       "      <td>1.155724</td>\n",
       "      <td>0.020632</td>\n",
       "      <td>0.197873</td>\n",
       "      <td>0.199785</td>\n",
       "      <td>0.090156</td>\n",
       "      <td>0.106479</td>\n",
       "      <td>0.198679</td>\n",
       "    </tr>\n",
       "    <tr>\n",
       "      <th>1</th>\n",
       "      <td>0.121671</td>\n",
       "      <td>0.334065</td>\n",
       "      <td>0.180439</td>\n",
       "      <td>0.037965</td>\n",
       "      <td>0.702711</td>\n",
       "      <td>0.480539</td>\n",
       "      <td>0.405303</td>\n",
       "      <td>0.106590</td>\n",
       "      <td>0.133642</td>\n",
       "      <td>0.714266</td>\n",
       "      <td>...</td>\n",
       "      <td>0.092776</td>\n",
       "      <td>0.179989</td>\n",
       "      <td>0.186551</td>\n",
       "      <td>0.491712</td>\n",
       "      <td>0.005300</td>\n",
       "      <td>0.017488</td>\n",
       "      <td>0.081028</td>\n",
       "      <td>0.116354</td>\n",
       "      <td>0.276918</td>\n",
       "      <td>0.309094</td>\n",
       "    </tr>\n",
       "    <tr>\n",
       "      <th>2</th>\n",
       "      <td>0.095625</td>\n",
       "      <td>0.188759</td>\n",
       "      <td>0.102961</td>\n",
       "      <td>0.409141</td>\n",
       "      <td>0.233870</td>\n",
       "      <td>0.178092</td>\n",
       "      <td>0.144872</td>\n",
       "      <td>0.684785</td>\n",
       "      <td>0.030607</td>\n",
       "      <td>0.205525</td>\n",
       "      <td>...</td>\n",
       "      <td>0.467819</td>\n",
       "      <td>0.025492</td>\n",
       "      <td>0.119554</td>\n",
       "      <td>2.963231</td>\n",
       "      <td>0.658304</td>\n",
       "      <td>0.136560</td>\n",
       "      <td>0.372603</td>\n",
       "      <td>0.064262</td>\n",
       "      <td>0.178026</td>\n",
       "      <td>1.056082</td>\n",
       "    </tr>\n",
       "    <tr>\n",
       "      <th>3</th>\n",
       "      <td>0.192995</td>\n",
       "      <td>0.449393</td>\n",
       "      <td>0.275163</td>\n",
       "      <td>0.276595</td>\n",
       "      <td>0.104226</td>\n",
       "      <td>0.313887</td>\n",
       "      <td>0.150739</td>\n",
       "      <td>0.241162</td>\n",
       "      <td>0.106343</td>\n",
       "      <td>0.232645</td>\n",
       "      <td>...</td>\n",
       "      <td>0.015888</td>\n",
       "      <td>0.165658</td>\n",
       "      <td>0.357495</td>\n",
       "      <td>1.568861</td>\n",
       "      <td>0.895973</td>\n",
       "      <td>0.219709</td>\n",
       "      <td>0.000000</td>\n",
       "      <td>0.086952</td>\n",
       "      <td>0.285739</td>\n",
       "      <td>0.036129</td>\n",
       "    </tr>\n",
       "    <tr>\n",
       "      <th>4</th>\n",
       "      <td>0.125440</td>\n",
       "      <td>0.335261</td>\n",
       "      <td>0.180668</td>\n",
       "      <td>0.224122</td>\n",
       "      <td>0.387346</td>\n",
       "      <td>0.053199</td>\n",
       "      <td>0.004590</td>\n",
       "      <td>0.341848</td>\n",
       "      <td>0.001810</td>\n",
       "      <td>0.477891</td>\n",
       "      <td>...</td>\n",
       "      <td>0.027288</td>\n",
       "      <td>0.089680</td>\n",
       "      <td>0.260602</td>\n",
       "      <td>0.787471</td>\n",
       "      <td>0.567632</td>\n",
       "      <td>0.152253</td>\n",
       "      <td>0.021113</td>\n",
       "      <td>0.000587</td>\n",
       "      <td>0.710166</td>\n",
       "      <td>0.512944</td>\n",
       "    </tr>\n",
       "    <tr>\n",
       "      <th>5</th>\n",
       "      <td>0.032018</td>\n",
       "      <td>0.024085</td>\n",
       "      <td>0.264659</td>\n",
       "      <td>0.041862</td>\n",
       "      <td>0.695062</td>\n",
       "      <td>0.204238</td>\n",
       "      <td>0.259592</td>\n",
       "      <td>0.164488</td>\n",
       "      <td>0.058913</td>\n",
       "      <td>0.587188</td>\n",
       "      <td>...</td>\n",
       "      <td>0.579254</td>\n",
       "      <td>0.319074</td>\n",
       "      <td>0.635639</td>\n",
       "      <td>1.286523</td>\n",
       "      <td>0.025295</td>\n",
       "      <td>0.441679</td>\n",
       "      <td>0.793624</td>\n",
       "      <td>0.178895</td>\n",
       "      <td>1.036580</td>\n",
       "      <td>0.280749</td>\n",
       "    </tr>\n",
       "    <tr>\n",
       "      <th>6</th>\n",
       "      <td>0.786491</td>\n",
       "      <td>0.072849</td>\n",
       "      <td>0.014630</td>\n",
       "      <td>0.032766</td>\n",
       "      <td>0.358258</td>\n",
       "      <td>0.174592</td>\n",
       "      <td>1.094428</td>\n",
       "      <td>1.881274</td>\n",
       "      <td>0.050145</td>\n",
       "      <td>1.622813</td>\n",
       "      <td>...</td>\n",
       "      <td>0.072429</td>\n",
       "      <td>0.590620</td>\n",
       "      <td>1.759950</td>\n",
       "      <td>0.683850</td>\n",
       "      <td>0.012709</td>\n",
       "      <td>0.013401</td>\n",
       "      <td>0.240093</td>\n",
       "      <td>0.047710</td>\n",
       "      <td>0.568559</td>\n",
       "      <td>1.436530</td>\n",
       "    </tr>\n",
       "    <tr>\n",
       "      <th>7</th>\n",
       "      <td>0.065886</td>\n",
       "      <td>0.234969</td>\n",
       "      <td>0.076715</td>\n",
       "      <td>0.083571</td>\n",
       "      <td>1.310598</td>\n",
       "      <td>0.075682</td>\n",
       "      <td>0.079029</td>\n",
       "      <td>0.805867</td>\n",
       "      <td>0.027668</td>\n",
       "      <td>0.747283</td>\n",
       "      <td>...</td>\n",
       "      <td>0.007657</td>\n",
       "      <td>1.086805</td>\n",
       "      <td>0.298694</td>\n",
       "      <td>1.197688</td>\n",
       "      <td>0.139057</td>\n",
       "      <td>0.041463</td>\n",
       "      <td>0.287434</td>\n",
       "      <td>0.665317</td>\n",
       "      <td>0.108133</td>\n",
       "      <td>0.022843</td>\n",
       "    </tr>\n",
       "    <tr>\n",
       "      <th>8</th>\n",
       "      <td>0.026105</td>\n",
       "      <td>0.388771</td>\n",
       "      <td>0.212297</td>\n",
       "      <td>0.506983</td>\n",
       "      <td>0.402260</td>\n",
       "      <td>0.395627</td>\n",
       "      <td>0.124789</td>\n",
       "      <td>0.109195</td>\n",
       "      <td>0.121822</td>\n",
       "      <td>0.387095</td>\n",
       "      <td>...</td>\n",
       "      <td>0.610100</td>\n",
       "      <td>0.037720</td>\n",
       "      <td>0.548847</td>\n",
       "      <td>1.902500</td>\n",
       "      <td>0.766743</td>\n",
       "      <td>0.013931</td>\n",
       "      <td>0.153291</td>\n",
       "      <td>0.340916</td>\n",
       "      <td>0.452838</td>\n",
       "      <td>0.629183</td>\n",
       "    </tr>\n",
       "    <tr>\n",
       "      <th>9</th>\n",
       "      <td>0.039578</td>\n",
       "      <td>0.377205</td>\n",
       "      <td>0.305820</td>\n",
       "      <td>0.246477</td>\n",
       "      <td>0.399099</td>\n",
       "      <td>0.347701</td>\n",
       "      <td>0.120734</td>\n",
       "      <td>0.290336</td>\n",
       "      <td>0.142479</td>\n",
       "      <td>0.054465</td>\n",
       "      <td>...</td>\n",
       "      <td>0.723310</td>\n",
       "      <td>0.298673</td>\n",
       "      <td>0.185757</td>\n",
       "      <td>1.632757</td>\n",
       "      <td>0.928632</td>\n",
       "      <td>0.051232</td>\n",
       "      <td>0.079179</td>\n",
       "      <td>0.785074</td>\n",
       "      <td>0.210754</td>\n",
       "      <td>0.538394</td>\n",
       "    </tr>\n",
       "  </tbody>\n",
       "</table>\n",
       "<p>10 rows × 2048 columns</p>\n",
       "</div>"
      ],
      "text/plain": [
       "       0         1         2         3         4         5         6     \\\n",
       "0  0.186658  0.201167  0.277590  0.450534  0.679752  0.557190  0.290200   \n",
       "1  0.121671  0.334065  0.180439  0.037965  0.702711  0.480539  0.405303   \n",
       "2  0.095625  0.188759  0.102961  0.409141  0.233870  0.178092  0.144872   \n",
       "3  0.192995  0.449393  0.275163  0.276595  0.104226  0.313887  0.150739   \n",
       "4  0.125440  0.335261  0.180668  0.224122  0.387346  0.053199  0.004590   \n",
       "5  0.032018  0.024085  0.264659  0.041862  0.695062  0.204238  0.259592   \n",
       "6  0.786491  0.072849  0.014630  0.032766  0.358258  0.174592  1.094428   \n",
       "7  0.065886  0.234969  0.076715  0.083571  1.310598  0.075682  0.079029   \n",
       "8  0.026105  0.388771  0.212297  0.506983  0.402260  0.395627  0.124789   \n",
       "9  0.039578  0.377205  0.305820  0.246477  0.399099  0.347701  0.120734   \n",
       "\n",
       "       7         8         9     ...      2038      2039      2040      2041  \\\n",
       "0  0.049228  0.003357  0.435891  ...  0.380921  0.814568  0.853492  1.155724   \n",
       "1  0.106590  0.133642  0.714266  ...  0.092776  0.179989  0.186551  0.491712   \n",
       "2  0.684785  0.030607  0.205525  ...  0.467819  0.025492  0.119554  2.963231   \n",
       "3  0.241162  0.106343  0.232645  ...  0.015888  0.165658  0.357495  1.568861   \n",
       "4  0.341848  0.001810  0.477891  ...  0.027288  0.089680  0.260602  0.787471   \n",
       "5  0.164488  0.058913  0.587188  ...  0.579254  0.319074  0.635639  1.286523   \n",
       "6  1.881274  0.050145  1.622813  ...  0.072429  0.590620  1.759950  0.683850   \n",
       "7  0.805867  0.027668  0.747283  ...  0.007657  1.086805  0.298694  1.197688   \n",
       "8  0.109195  0.121822  0.387095  ...  0.610100  0.037720  0.548847  1.902500   \n",
       "9  0.290336  0.142479  0.054465  ...  0.723310  0.298673  0.185757  1.632757   \n",
       "\n",
       "       2042      2043      2044      2045      2046      2047  \n",
       "0  0.020632  0.197873  0.199785  0.090156  0.106479  0.198679  \n",
       "1  0.005300  0.017488  0.081028  0.116354  0.276918  0.309094  \n",
       "2  0.658304  0.136560  0.372603  0.064262  0.178026  1.056082  \n",
       "3  0.895973  0.219709  0.000000  0.086952  0.285739  0.036129  \n",
       "4  0.567632  0.152253  0.021113  0.000587  0.710166  0.512944  \n",
       "5  0.025295  0.441679  0.793624  0.178895  1.036580  0.280749  \n",
       "6  0.012709  0.013401  0.240093  0.047710  0.568559  1.436530  \n",
       "7  0.139057  0.041463  0.287434  0.665317  0.108133  0.022843  \n",
       "8  0.766743  0.013931  0.153291  0.340916  0.452838  0.629183  \n",
       "9  0.928632  0.051232  0.079179  0.785074  0.210754  0.538394  \n",
       "\n",
       "[10 rows x 2048 columns]"
      ]
     },
     "execution_count": 17,
     "metadata": {},
     "output_type": "execute_result"
    }
   ],
   "source": [
    "# Get the predictions as float\n",
    "\n",
    "arrayOfFeatures = resultDF['predictions'].apply(lambda x: np.array([float(str_dim) for str_dim in x.split(',')], dtype=np.float32)).to_numpy().tolist()\n",
    "featuresVectorDF = pd.DataFrame(arrayOfFeatures)\n",
    "\n",
    "featuresVectorDF.head(10)"
   ]
  },
  {
   "cell_type": "code",
   "execution_count": 18,
   "metadata": {
    "colab": {},
    "colab_type": "code",
    "id": "O0uB8q0xJBC0"
   },
   "outputs": [],
   "source": [
    "featuresVectorDF.to_csv(\n",
    "    LATEST_FOLDER_PATH +  \"result_embdings.tsv\",\n",
    "    encoding='utf-8',\n",
    "    sep='\\t',\n",
    "    quoting=csv.QUOTE_NONE,\n",
    "    index=False,\n",
    "    header=False\n",
    ")"
   ]
  },
  {
   "cell_type": "markdown",
   "metadata": {
    "colab_type": "text",
    "id": "SqvyX08Oo8RK"
   },
   "source": [
    "# Visualize the data using tensorflow embding projection\n",
    "\n",
    "This tool allow to users to visualize him data. Use the last folder in result/basic-predictions/\n",
    "\n",
    "## Steps\n",
    "\n",
    "1. Click on Load buttom\n",
    "2. In step 1 select the file `result_embdings.tsv`\n",
    "3. In step 2 select the file `result_labels.tsv`\n",
    "4. Click outside the modal\n",
    "\n",
    "You should see something like this:\n",
    "\n",
    "![screenshot using tf embding projector](./docs/tensorflowEmbdingProjector.png)"
   ]
  },
  {
   "cell_type": "markdown",
   "metadata": {
    "colab_type": "text",
    "id": "Y3Nug5sdo8RL"
   },
   "source": [
    "# PCA 2 dimension Visualization "
   ]
  },
  {
   "cell_type": "code",
   "execution_count": 19,
   "metadata": {
    "colab": {},
    "colab_type": "code",
    "id": "5b8NYwz-o8RO"
   },
   "outputs": [],
   "source": [
    "# Scaling the data before\n",
    "vectors_std = StandardScaler().fit_transform(arrayOfFeatures)"
   ]
  },
  {
   "cell_type": "code",
   "execution_count": 20,
   "metadata": {
    "colab": {
     "base_uri": "https://localhost:8080/",
     "height": 357
    },
    "colab_type": "code",
    "id": "ICW8Ml8uo8Rt",
    "outputId": "6c00e519-6e7a-431b-a641-3f6cf6b21f17"
   },
   "outputs": [
    {
     "data": {
      "text/plain": [
       "[array([0.18665837, 0.2011668 , 0.27758992, ..., 0.0901558 , 0.10647903,\n",
       "        0.19867876], dtype=float32),\n",
       " array([0.12167142, 0.33406463, 0.18043913, ..., 0.11635358, 0.2769176 ,\n",
       "        0.30909356], dtype=float32),\n",
       " array([0.09562505, 0.18875906, 0.10296103, ..., 0.06426189, 0.1780257 ,\n",
       "        1.056082  ], dtype=float32),\n",
       " array([0.19299471, 0.44939288, 0.27516326, ..., 0.08695217, 0.28573856,\n",
       "        0.03612937], dtype=float32),\n",
       " array([1.2543976e-01, 3.3526051e-01, 1.8066786e-01, ..., 5.8655511e-04,\n",
       "        7.1016580e-01, 5.1294416e-01], dtype=float32),\n",
       " array([0.03201832, 0.02408518, 0.26465937, ..., 0.17889526, 1.0365796 ,\n",
       "        0.2807495 ], dtype=float32),\n",
       " array([0.7864913 , 0.07284891, 0.01463037, ..., 0.04770952, 0.5685587 ,\n",
       "        1.4365298 ], dtype=float32),\n",
       " array([0.0658858 , 0.23496924, 0.07671533, ..., 0.6653169 , 0.10813301,\n",
       "        0.02284313], dtype=float32),\n",
       " array([0.02610495, 0.3887712 , 0.2122975 , ..., 0.34091642, 0.4528377 ,\n",
       "        0.62918335], dtype=float32),\n",
       " array([0.03957816, 0.37720463, 0.3058201 , ..., 0.7850739 , 0.21075404,\n",
       "        0.53839433], dtype=float32)]"
      ]
     },
     "execution_count": 20,
     "metadata": {},
     "output_type": "execute_result"
    }
   ],
   "source": [
    "arrayOfFeatures[0:10]"
   ]
  },
  {
   "cell_type": "code",
   "execution_count": 21,
   "metadata": {
    "colab": {
     "base_uri": "https://localhost:8080/",
     "height": 238
    },
    "colab_type": "code",
    "id": "GD6IhOsHo8R-",
    "outputId": "c1950cb5-5ddf-40ca-b10b-57aea3063a58"
   },
   "outputs": [
    {
     "data": {
      "text/plain": [
       "array([[-0.60055327, -0.51845876,  0.1113983 , ..., -1.05069205,\n",
       "        -0.8015876 , -0.61084067],\n",
       "       [-0.82981582,  0.00532716, -0.2610222 , ..., -0.97262064,\n",
       "        -0.37178523, -0.25218091],\n",
       "       [-0.92170283, -0.56736096, -0.55802886, ..., -1.12785792,\n",
       "        -0.62116527,  2.17425728],\n",
       "       ...,\n",
       "       [-1.02661769, -0.38523426, -0.65863987, ...,  0.66333276,\n",
       "        -0.79741669, -1.18200651],\n",
       "       [-1.16695755,  0.22094039, -0.13889545, ..., -0.30340586,\n",
       "         0.07184015,  0.78756487],\n",
       "       [-1.11942641,  0.1753534 ,  0.21961669, ...,  1.02021794,\n",
       "        -0.53863278,  0.49265543]])"
      ]
     },
     "execution_count": 21,
     "metadata": {},
     "output_type": "execute_result"
    }
   ],
   "source": [
    "vectors_std[0:10]"
   ]
  },
  {
   "cell_type": "code",
   "execution_count": 22,
   "metadata": {
    "colab": {
     "base_uri": "https://localhost:8080/",
     "height": 51
    },
    "colab_type": "code",
    "id": "tyCWUbVyo8SI",
    "outputId": "f673f9f9-e82a-46d0-bbdf-d0f046d14738"
   },
   "outputs": [
    {
     "name": "stdout",
     "output_type": "stream",
     "text": [
      "(994, 2)\n"
     ]
    },
    {
     "data": {
      "text/plain": [
       "array([0.08582823, 0.04482591])"
      ]
     },
     "execution_count": 22,
     "metadata": {},
     "output_type": "execute_result"
    }
   ],
   "source": [
    "pca = PCA(n_components=2)\n",
    "principalComponents = pca.fit_transform(vectors_std)\n",
    "print(principalComponents.shape)\n",
    "pca.explained_variance_ratio_"
   ]
  },
  {
   "cell_type": "code",
   "execution_count": 23,
   "metadata": {
    "colab": {
     "base_uri": "https://localhost:8080/",
     "height": 523
    },
    "colab_type": "code",
    "id": "69DDRAmwo8SS",
    "outputId": "4b10ee4b-a493-4aae-d923-a2f32325ed35"
   },
   "outputs": [
    {
     "data": {
      "image/png": "[encoded data removed]",
      "text/plain": [
       "<Figure size 576x576 with 1 Axes>"
      ]
     },
     "metadata": {
      "needs_background": "light"
     },
     "output_type": "display_data"
    }
   ],
   "source": [
    "# Plotting using matplot lib\n",
    "\n",
    "fig = plt.figure(figsize = (8,8))\n",
    "ax = fig.add_subplot(1,1,1) \n",
    "\n",
    "ax.set_xlabel('Principal Component 1', fontsize = 15)\n",
    "ax.set_ylabel('Principal Component 2', fontsize = 15)\n",
    "\n",
    "ax.set_title('2 component PCA', fontsize = 20)\n",
    "\n",
    "targets = getClasses()\n",
    "colors = plt.cm.rainbow( np.linspace(0,1,len(getClasses())) )\n",
    "for target, color in zip(targets,colors):\n",
    "    indicesToKeep = resultDF['class'] == target    \n",
    "    ax.scatter(principalComponents[indicesToKeep][:,0:1]\n",
    "               , principalComponents[indicesToKeep][:,1:2]\n",
    "               , color = color\n",
    "               , s = 10)\n",
    "ax.legend(targets)\n",
    "ax.grid()"
   ]
  }
 ],
 "metadata": {
  "colab": {
   "collapsed_sections": [],
   "name": "visualization.ipynb",
   "provenance": [],
   "toc_visible": true
  },
  "kernelspec": {
   "display_name": "Python 3",
   "language": "python",
   "name": "python3"
  },
  "language_info": {
   "codemirror_mode": {
    "name": "ipython",
    "version": 3
   },
   "file_extension": ".py",
   "mimetype": "text/x-python",
   "name": "python",
   "nbconvert_exporter": "python",
   "pygments_lexer": "ipython3",
   "version": "3.7.6"
  }
 },
 "nbformat": 4,
 "nbformat_minor": 4
}
